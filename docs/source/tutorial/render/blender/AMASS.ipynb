{
 "cells": [
  {
   "cell_type": "markdown",
   "metadata": {},
   "source": [
    "# Render animations in AMASS SMPL-X format in Blender"
   ]
  },
  {
   "cell_type": "markdown",
   "metadata": {},
   "source": [
    "## Set up\n",
    "\n",
    "1. Install blender [SMPL-X add-on](https://gitlab.tuebingen.mpg.de/jtesch/smplx_blender_addon) [[Tutorial]](https://www.youtube.com/watch?v=DY2k29Jef94)\n",
    "\n",
    "<div>\n",
    "<img src=\"../../../../images/smplx.png\" width=\"70%\"/>\n",
    "</div>\n",
    "\n",
    "2. Create a conda environment with the **same python version** as blender \n",
    "    (You can check it at blender's python interactive console under scripting tab)\n",
    "    \n",
    "3. In that environment, install [blender_notebook](https://github.com/cheng-chi/blender_notebook)\n",
    "\n",
    "4. open this script in jupyter notebook and select blender kernel"
   ]
  },
  {
   "cell_type": "code",
   "execution_count": 1,
   "metadata": {},
   "outputs": [],
   "source": [
    "import os\n",
    "os.chdir(\"../../../../../src\")\n",
    "\n",
    "import bpy\n",
    "from render.blender.utils import *\n",
    "import numpy as np"
   ]
  },
  {
   "cell_type": "markdown",
   "metadata": {},
   "source": [
    "You might need to manually remove the default cube in the scene"
   ]
  },
  {
   "cell_type": "code",
   "execution_count": 3,
   "metadata": {},
   "outputs": [
    {
     "name": "stdout",
     "output_type": "stream",
     "text": [
      "Adding gender: neutral\n",
      "Setting hand pose: relaxed\n"
     ]
    },
    {
     "name": "stderr",
     "output_type": "stream",
     "text": [
      "/snap/blender/830/2.93/python/lib/python3.9/site-packages/numpy/core/_asarray.py:83: VisibleDeprecationWarning: Creating an ndarray from ragged nested sequences (which is a list-or-tuple of lists-or-tuples-or ndarrays with different lengths or shapes) is deprecated. If you meant to do this, you must specify 'dtype=object' when creating the ndarray\n",
      "  return array(a, dtype, copy=False, order=order)\n"
     ]
    }
   ],
   "source": [
    "# Add a model into scene\n",
    "import_smplx(\"neutral\")"
   ]
  },
  {
   "cell_type": "code",
   "execution_count": 4,
   "metadata": {},
   "outputs": [],
   "source": [
    "data = np.load(\"../../SSM/20161014_50033/jumping_jacks_sync_stageii.npz\", allow_pickle=True)"
   ]
  },
  {
   "cell_type": "code",
   "execution_count": 8,
   "metadata": {},
   "outputs": [
    {
     "name": "stderr",
     "output_type": "stream",
     "text": [
      "100%|███████████████████████████████████████████████████| 287/287 [00:08<00:00, 32.49it/s]\n"
     ]
    }
   ],
   "source": [
    "# Set animation\n",
    "set_amass_animation(data)"
   ]
  },
  {
   "cell_type": "markdown",
   "metadata": {},
   "source": [
    "This will generate the animation in Blender\n",
    "<div>\n",
    "<img src=\"../../../../images/blender_amass.gif\" width=\"70%\"/>\n",
    "</div>"
   ]
  },
  {
   "cell_type": "code",
   "execution_count": 32,
   "metadata": {},
   "outputs": [],
   "source": [
    "# Clear all animation\n",
    "clear_all_animation()"
   ]
  },
  {
   "cell_type": "code",
   "execution_count": null,
   "metadata": {},
   "outputs": [],
   "source": []
  }
 ],
 "metadata": {
  "interpreter": {
   "hash": "26f1dd9332319e64d68fac6013c6efeeb49c7cc7a3dff44468b2fa48a2338fae"
  },
  "kernelspec": {
   "display_name": "blender",
   "language": "python",
   "name": "blender"
  },
  "language_info": {
   "codemirror_mode": {
    "name": "ipython",
    "version": 3
   },
   "file_extension": ".py",
   "mimetype": "text/x-python",
   "name": "python",
   "nbconvert_exporter": "python",
   "pygments_lexer": "ipython3",
   "version": "3.9.2"
  }
 },
 "nbformat": 4,
 "nbformat_minor": 2
}
