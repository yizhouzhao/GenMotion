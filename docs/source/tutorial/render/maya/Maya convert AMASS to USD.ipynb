{
 "cells": [
  {
   "cell_type": "code",
   "execution_count": 1,
   "metadata": {},
   "outputs": [],
   "source": [
    "# import packages\n",
    "import numpy as np\n",
    "from tqdm.auto import tqdm\n",
    "\n",
    "# import GenMotion modules\n",
    "\n",
    "from genmotion.dataset.amass_params import SMPL_H_SKELETON # recognize the skeleton type as SMPL_H\n",
    "from genmotion.render.maya.utils import MayaController"
   ]
  },
  {
   "cell_type": "code",
   "execution_count": 2,
   "metadata": {},
   "outputs": [],
   "source": [
    "# Set up Maya Controller (socket client) with PORT number\n",
    "mc = MayaController(PORT=12345)"
   ]
  },
  {
   "cell_type": "code",
   "execution_count": 3,
   "metadata": {},
   "outputs": [],
   "source": [
    "# Test Maya command by setting the key frame at timeline\n",
    "mc.SetCurrentTimeFrame(0)"
   ]
  },
  {
   "cell_type": "code",
   "execution_count": 4,
   "metadata": {},
   "outputs": [
    {
     "data": {
      "text/plain": [
       "'\\n\\x00'"
      ]
     },
     "execution_count": 4,
     "metadata": {},
     "output_type": "execute_result"
    }
   ],
   "source": [
    "mc.SendPythonCommand(\"import maya.cmds as cmds\")\n",
    "mc.SendPythonCommand(\"import maya.api.OpenMaya as om\")"
   ]
  },
  {
   "cell_type": "code",
   "execution_count": 5,
   "metadata": {},
   "outputs": [],
   "source": [
    "def get_root_transform_matrix(root_name = \"f_avg_root\"):\n",
    "    # https://help.autodesk.com/view/MAYAUL/2017/CHS/?guid=__py_ref_class_open_maya_1_1_m_transformation_matrix_html\n",
    "    multi_line_cmd = f\"\"\"\n",
    "# An object of interest:\n",
    "cmds.currentTime(0, edit=True )\n",
    "object = '{root_name}'\n",
    "# Get the transform matrix as a list of 16 floats\n",
    "m_list = cmds.xform(object, query=True, matrix=True)\n",
    "# Create the MMatrix object\n",
    "m = om.MMatrix(m_list) \n",
    "m_inverse = m.inverse()\n",
    "\"\"\".replace(\"\\n\",r\"\\n\")  \n",
    "    \n",
    "    # check success\n",
    "    mc.SendPythonCommand(\"print(m, m_inverse)\")\n",
    "    mc.SendPythonCommand(multi_line_cmd)"
   ]
  },
  {
   "cell_type": "code",
   "execution_count": 6,
   "metadata": {},
   "outputs": [],
   "source": [
    "def rotate_root_transform(joint_name=\"f_avg_root\"):\n",
    "    # https://help.autodesk.com/view/MAYAUL/2017/CHS/?guid=__py_ref_class_open_maya_1_1_m_transformation_matrix_html\n",
    "    multi_line_cmd = f\"\"\"\n",
    "# An object of interest:\n",
    "joint = '{joint_name}'\n",
    "# Get the transform matrix as a list of 16 floats\n",
    "j_list = cmds.xform(joint, query=True, matrix=True)\n",
    "# Create the MMatrix object\n",
    "joint_m = om.MMatrix(j_list) \n",
    "new_joint_m = joint_m * m_inverse\n",
    "# rotate matrix\n",
    "mt = om.MTransformationMatrix(new_joint_m)\n",
    "\n",
    "# Get the rotations\n",
    "rot = mt.rotation()\n",
    "x,y,z = om.MAngle(rot.x).asDegrees(), om.MAngle(rot.y).asDegrees(), om.MAngle(rot.z).asDegrees()\n",
    "cmds.setAttr('{joint_name}.rotateX', x)\n",
    "cmds.setAttr('{joint_name}.rotateY', y)\n",
    "cmds.setAttr('{joint_name}.rotateZ', z)\n",
    "\n",
    "# Get the rotations\n",
    "tran = mt.translation(om.MSpace.kWorld)\n",
    "x,y,z = tran.x, tran.y, tran.z\n",
    "cmds.setAttr('{joint_name}.translateX', x)\n",
    "cmds.setAttr('{joint_name}.translateY', y)\n",
    "cmds.setAttr('{joint_name}.translateZ', z)\n",
    "\n",
    "\"\"\".replace(\"\\n\",r\"\\n\")  \n",
    "    \n",
    "    # check success\n",
    "    mc.SendPythonCommand(multi_line_cmd)"
   ]
  },
  {
   "cell_type": "code",
   "execution_count": 7,
   "metadata": {},
   "outputs": [],
   "source": [
    "# rotate_root_transform()"
   ]
  },
  {
   "cell_type": "code",
   "execution_count": 8,
   "metadata": {},
   "outputs": [],
   "source": [
    "# get_root_transform_matrix()"
   ]
  },
  {
   "cell_type": "code",
   "execution_count": 9,
   "metadata": {},
   "outputs": [],
   "source": [
    "# after downloading the dataset, unzip the tar.gz file, and assign the path for `npy` relative to the\\\n",
    "# the root folder of `GenMotion/src`\n",
    "amass_npz_fname = 'D:/research/data/DFaust/DFaust_67/50002/50002_chicken_wings_poses.npz'"
   ]
  },
  {
   "cell_type": "code",
   "execution_count": 10,
   "metadata": {},
   "outputs": [],
   "source": [
    "# load body data from npz file\n",
    "bdata = np.load(amass_npz_fname)"
   ]
  },
  {
   "cell_type": "code",
   "execution_count": 11,
   "metadata": {},
   "outputs": [
    {
     "name": "stdout",
     "output_type": "stream",
     "text": [
      "framerate: 60\n"
     ]
    }
   ],
   "source": [
    "# Get the frame rate of from the body data\n",
    "print(\"framerate:\", bdata['mocap_framerate'])"
   ]
  },
  {
   "cell_type": "code",
   "execution_count": 12,
   "metadata": {},
   "outputs": [],
   "source": [
    "# Set one frame for the animation\n",
    "def SetOneFrame(frame, body_data, joints_info_list: list, joint_prefix = \"f_avg_\", axis_up=True):\n",
    "    '''Set one maya frame from load data\n",
    "\n",
    "    :param frame: int\n",
    "    :param body_data: array\n",
    "    :param joints_info_list: list\n",
    "    :return:\n",
    "    '''\n",
    "    #  set current time frame\n",
    "    mc.SetCurrentTimeFrame(frame)\n",
    "\n",
    "    for i in range(0,len(joints_info_list)):\n",
    "        # get rotation from body data\n",
    "        rotateX, rotateY, rotateZ = np.rad2deg(body_data['poses'][frame][i*3:(i+1)*3])\n",
    "\n",
    "        # get joint name\n",
    "        joint_name = joint_prefix + joints_info_list[i]\n",
    "\n",
    "        # if i == 0, set root translation\n",
    "        if i == 0:\n",
    "            joint_name = joint_prefix + \"root\"\n",
    "            translateX,translateY,translateZ = body_data['trans'][frame]\n",
    "            mc.SetObjectAttribute(joint_name, \"translateX\", translateX)\n",
    "            mc.SetObjectAttribute(joint_name, \"translateY\", translateY)\n",
    "            mc.SetObjectAttribute(joint_name, \"translateZ\", translateZ)\n",
    "\n",
    "        # set rotation for joints\n",
    "        mc.SetObjectAttribute(joint_name, \"rotateX\", rotateX)\n",
    "        mc.SetObjectAttribute(joint_name, \"rotateY\", rotateY)\n",
    "        mc.SetObjectAttribute(joint_name, \"rotateZ\", rotateZ)\n",
    "\n",
    "        if axis_up and i == 0:\n",
    "            joint_name = joint_prefix + \"root\"\n",
    "\n",
    "            # if start, record initial root transform matrix\n",
    "            if frame == 0:\n",
    "                get_root_transform_matrix()\n",
    "            \n",
    "            rotate_root_transform()\n",
    "\n",
    "        mc.SetCurrentKeyFrameForPositionAndRotation(joint_name)\n",
    "        #break"
   ]
  },
  {
   "cell_type": "code",
   "execution_count": 14,
   "metadata": {},
   "outputs": [
    {
     "ename": "TypeError",
     "evalue": "range() takes no keyword arguments",
     "output_type": "error",
     "traceback": [
      "\u001b[1;31m---------------------------------------------------------------------------\u001b[0m",
      "\u001b[1;31mTypeError\u001b[0m                                 Traceback (most recent call last)",
      "\u001b[1;32me:\\researches\\GenMotion\\docs\\source\\tutorial\\render\\maya\\Maya convert AMASS to USD.ipynb Cell 13'\u001b[0m in \u001b[0;36m<cell line: 3>\u001b[1;34m()\u001b[0m\n\u001b[0;32m      <a href='vscode-notebook-cell:/e%3A/researches/GenMotion/docs/source/tutorial/render/maya/Maya%20convert%20AMASS%20to%20USD.ipynb#ch0000007?line=0'>1</a>\u001b[0m \u001b[39m# Now we maker animation for every 10 frame\u001b[39;00m\n\u001b[0;32m      <a href='vscode-notebook-cell:/e%3A/researches/GenMotion/docs/source/tutorial/render/maya/Maya%20convert%20AMASS%20to%20USD.ipynb#ch0000007?line=1'>2</a>\u001b[0m frame_interval \u001b[39m=\u001b[39m \u001b[39m10\u001b[39m\n\u001b[1;32m----> <a href='vscode-notebook-cell:/e%3A/researches/GenMotion/docs/source/tutorial/render/maya/Maya%20convert%20AMASS%20to%20USD.ipynb#ch0000007?line=2'>3</a>\u001b[0m \u001b[39mfor\u001b[39;00m frame \u001b[39min\u001b[39;00m tqdm(\u001b[39mrange\u001b[39;49m(\u001b[39m0\u001b[39;49m, \u001b[39mlen\u001b[39;49m(bdata[\u001b[39m\"\u001b[39;49m\u001b[39mposes\u001b[39;49m\u001b[39m\"\u001b[39;49m]), frame_interval, axis_up\u001b[39m=\u001b[39;49m\u001b[39mFalse\u001b[39;49;00m)):\n\u001b[0;32m      <a href='vscode-notebook-cell:/e%3A/researches/GenMotion/docs/source/tutorial/render/maya/Maya%20convert%20AMASS%20to%20USD.ipynb#ch0000007?line=3'>4</a>\u001b[0m     SetOneFrame(frame, bdata, SMPL_H_SKELETON)\n",
      "\u001b[1;31mTypeError\u001b[0m: range() takes no keyword arguments"
     ]
    }
   ],
   "source": [
    "# Now we maker animation for every 10 frame\n",
    "frame_interval = 10\n",
    "for frame in tqdm(range(0, len(bdata[\"poses\"]), frame_interval, )):\n",
    "    SetOneFrame(frame, bdata, SMPL_H_SKELETON, axis_up=False)"
   ]
  },
  {
   "cell_type": "code",
   "execution_count": null,
   "metadata": {},
   "outputs": [],
   "source": [
    "# mc.SetNewScene()"
   ]
  }
 ],
 "metadata": {
  "kernelspec": {
   "display_name": "Python 3.8.13 ('vrkit')",
   "language": "python",
   "name": "python3"
  },
  "language_info": {
   "codemirror_mode": {
    "name": "ipython",
    "version": 3
   },
   "file_extension": ".py",
   "mimetype": "text/x-python",
   "name": "python",
   "nbconvert_exporter": "python",
   "pygments_lexer": "ipython3",
   "version": "3.8.13"
  },
  "orig_nbformat": 4,
  "vscode": {
   "interpreter": {
    "hash": "efc59095896d3401d1fa7a279fe3be48dee0cf496dba82dd0e7a21e460415516"
   }
  }
 },
 "nbformat": 4,
 "nbformat_minor": 2
}
